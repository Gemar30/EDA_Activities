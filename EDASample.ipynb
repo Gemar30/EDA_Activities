{
 "cells": [
  {
   "cell_type": "markdown",
   "id": "53b7f95e-640d-4d80-98bb-a0da626d9ef6",
   "metadata": {},
   "source": [
    "EDA Using Python"
   ]
  },
  {
   "cell_type": "code",
   "execution_count": 4,
   "id": "990521e6-94f1-4099-9cf3-17f4862f85b4",
   "metadata": {},
   "outputs": [],
   "source": [
    "import pandas as pd\n",
    "import seaborn as sns\n",
    "import numpy as np"
   ]
  },
  {
   "cell_type": "code",
   "execution_count": 10,
   "id": "2c1994a2-225f-4088-aaff-c3acd8b74755",
   "metadata": {},
   "outputs": [],
   "source": [
    "# data = pd.read_csv(\"/Users/gemarusi/Documents/GitHub/EDA_Activities/airlines_data_part.csv\")\n",
    "\n",
    "data = pd.read_csv(\"airlines_data_part.csv\")"
   ]
  },
  {
   "cell_type": "code",
   "execution_count": 35,
   "id": "65f22ab3-f640-450e-84c9-649b6fa016b4",
   "metadata": {},
   "outputs": [],
   "source": [
    "#1 Understanding the data"
   ]
  },
  {
   "cell_type": "code",
   "execution_count": 5,
   "id": "044da083-0754-4390-a2a3-f96021f9f7b6",
   "metadata": {},
   "outputs": [
    {
     "data": {
      "text/html": [
       "<div>\n",
       "<style scoped>\n",
       "    .dataframe tbody tr th:only-of-type {\n",
       "        vertical-align: middle;\n",
       "    }\n",
       "\n",
       "    .dataframe tbody tr th {\n",
       "        vertical-align: top;\n",
       "    }\n",
       "\n",
       "    .dataframe thead th {\n",
       "        text-align: right;\n",
       "    }\n",
       "</style>\n",
       "<table border=\"1\" class=\"dataframe\">\n",
       "  <thead>\n",
       "    <tr style=\"text-align: right;\">\n",
       "      <th></th>\n",
       "      <th>passenger_name</th>\n",
       "      <th>day</th>\n",
       "      <th>month</th>\n",
       "      <th>departure_city</th>\n",
       "      <th>arrival_city</th>\n",
       "      <th>sales</th>\n",
       "    </tr>\n",
       "  </thead>\n",
       "  <tbody>\n",
       "    <tr>\n",
       "      <th>0</th>\n",
       "      <td>VIKTOR BORISOV</td>\n",
       "      <td>21</td>\n",
       "      <td>6</td>\n",
       "      <td>Astrakhan</td>\n",
       "      <td>Moscow</td>\n",
       "      <td>52000</td>\n",
       "    </tr>\n",
       "    <tr>\n",
       "      <th>1</th>\n",
       "      <td>VIKTOR BORISOV</td>\n",
       "      <td>21</td>\n",
       "      <td>6</td>\n",
       "      <td>Moscow</td>\n",
       "      <td>Astrakhan</td>\n",
       "      <td>52000</td>\n",
       "    </tr>\n",
       "    <tr>\n",
       "      <th>2</th>\n",
       "      <td>ALEKSANDRA KUZNECOVA</td>\n",
       "      <td>21</td>\n",
       "      <td>6</td>\n",
       "      <td>Astrakhan</td>\n",
       "      <td>Moscow</td>\n",
       "      <td>52000</td>\n",
       "    </tr>\n",
       "    <tr>\n",
       "      <th>3</th>\n",
       "      <td>ALEKSANDRA KUZNECOVA</td>\n",
       "      <td>21</td>\n",
       "      <td>6</td>\n",
       "      <td>Moscow</td>\n",
       "      <td>Astrakhan</td>\n",
       "      <td>52000</td>\n",
       "    </tr>\n",
       "    <tr>\n",
       "      <th>4</th>\n",
       "      <td>LYUDMILA POTAPOVA</td>\n",
       "      <td>21</td>\n",
       "      <td>6</td>\n",
       "      <td>Moscow</td>\n",
       "      <td>Khabarovsk</td>\n",
       "      <td>178800</td>\n",
       "    </tr>\n",
       "  </tbody>\n",
       "</table>\n",
       "</div>"
      ],
      "text/plain": [
       "         passenger_name  day  month departure_city arrival_city   sales\n",
       "0        VIKTOR BORISOV   21      6      Astrakhan       Moscow   52000\n",
       "1        VIKTOR BORISOV   21      6         Moscow    Astrakhan   52000\n",
       "2  ALEKSANDRA KUZNECOVA   21      6      Astrakhan       Moscow   52000\n",
       "3  ALEKSANDRA KUZNECOVA   21      6         Moscow    Astrakhan   52000\n",
       "4     LYUDMILA POTAPOVA   21      6         Moscow   Khabarovsk  178800"
      ]
     },
     "execution_count": 5,
     "metadata": {},
     "output_type": "execute_result"
    }
   ],
   "source": [
    "data.tail()"
   ]
  },
  {
   "cell_type": "code",
   "execution_count": 7,
   "id": "f34809a5-7b84-45de-b2d2-c21a59fb4b91",
   "metadata": {},
   "outputs": [
    {
     "data": {
      "text/html": [
       "<div>\n",
       "<style scoped>\n",
       "    .dataframe tbody tr th:only-of-type {\n",
       "        vertical-align: middle;\n",
       "    }\n",
       "\n",
       "    .dataframe tbody tr th {\n",
       "        vertical-align: top;\n",
       "    }\n",
       "\n",
       "    .dataframe thead th {\n",
       "        text-align: right;\n",
       "    }\n",
       "</style>\n",
       "<table border=\"1\" class=\"dataframe\">\n",
       "  <thead>\n",
       "    <tr style=\"text-align: right;\">\n",
       "      <th></th>\n",
       "      <th>passenger_name</th>\n",
       "      <th>day</th>\n",
       "      <th>month</th>\n",
       "      <th>departure_city</th>\n",
       "      <th>arrival_city</th>\n",
       "      <th>sales</th>\n",
       "    </tr>\n",
       "  </thead>\n",
       "  <tbody>\n",
       "    <tr>\n",
       "      <th>1016769</th>\n",
       "      <td>ALEKSANDR ZAYCEV</td>\n",
       "      <td>15</td>\n",
       "      <td>8</td>\n",
       "      <td>Moscow</td>\n",
       "      <td>Bryansk</td>\n",
       "      <td>1185800</td>\n",
       "    </tr>\n",
       "    <tr>\n",
       "      <th>1016770</th>\n",
       "      <td>VASILIY FOMIN</td>\n",
       "      <td>15</td>\n",
       "      <td>8</td>\n",
       "      <td>Bryansk</td>\n",
       "      <td>Moscow</td>\n",
       "      <td>1185800</td>\n",
       "    </tr>\n",
       "    <tr>\n",
       "      <th>1016771</th>\n",
       "      <td>VALERIY MOISEEV</td>\n",
       "      <td>15</td>\n",
       "      <td>8</td>\n",
       "      <td>Moscow</td>\n",
       "      <td>Bryansk</td>\n",
       "      <td>1185800</td>\n",
       "    </tr>\n",
       "    <tr>\n",
       "      <th>1016772</th>\n",
       "      <td>VALERIY MOISEEV</td>\n",
       "      <td>15</td>\n",
       "      <td>8</td>\n",
       "      <td>Bryansk</td>\n",
       "      <td>Moscow</td>\n",
       "      <td>1185800</td>\n",
       "    </tr>\n",
       "    <tr>\n",
       "      <th>1016773</th>\n",
       "      <td>VASILIY FOMIN</td>\n",
       "      <td>15</td>\n",
       "      <td>8</td>\n",
       "      <td>Moscow</td>\n",
       "      <td>Bryansk</td>\n",
       "      <td>1185800</td>\n",
       "    </tr>\n",
       "  </tbody>\n",
       "</table>\n",
       "</div>"
      ],
      "text/plain": [
       "           passenger_name  day  month departure_city arrival_city    sales\n",
       "1016769  ALEKSANDR ZAYCEV   15      8         Moscow      Bryansk  1185800\n",
       "1016770     VASILIY FOMIN   15      8        Bryansk       Moscow  1185800\n",
       "1016771   VALERIY MOISEEV   15      8         Moscow      Bryansk  1185800\n",
       "1016772   VALERIY MOISEEV   15      8        Bryansk       Moscow  1185800\n",
       "1016773     VASILIY FOMIN   15      8         Moscow      Bryansk  1185800"
      ]
     },
     "execution_count": 7,
     "metadata": {},
     "output_type": "execute_result"
    }
   ],
   "source": [
    "data.tail()"
   ]
  },
  {
   "cell_type": "code",
   "execution_count": 9,
   "id": "3587ce6e-7a91-4ac9-ac20-848c159f2a95",
   "metadata": {},
   "outputs": [
    {
     "data": {
      "text/plain": [
       "(1016774, 6)"
      ]
     },
     "execution_count": 9,
     "metadata": {},
     "output_type": "execute_result"
    }
   ],
   "source": [
    "data.shape"
   ]
  },
  {
   "cell_type": "code",
   "execution_count": 11,
   "id": "458b6927-210d-4789-bf65-3ead5ae62090",
   "metadata": {},
   "outputs": [
    {
     "data": {
      "text/html": [
       "<div>\n",
       "<style scoped>\n",
       "    .dataframe tbody tr th:only-of-type {\n",
       "        vertical-align: middle;\n",
       "    }\n",
       "\n",
       "    .dataframe tbody tr th {\n",
       "        vertical-align: top;\n",
       "    }\n",
       "\n",
       "    .dataframe thead th {\n",
       "        text-align: right;\n",
       "    }\n",
       "</style>\n",
       "<table border=\"1\" class=\"dataframe\">\n",
       "  <thead>\n",
       "    <tr style=\"text-align: right;\">\n",
       "      <th></th>\n",
       "      <th>day</th>\n",
       "      <th>month</th>\n",
       "      <th>sales</th>\n",
       "    </tr>\n",
       "  </thead>\n",
       "  <tbody>\n",
       "    <tr>\n",
       "      <th>count</th>\n",
       "      <td>1.016774e+06</td>\n",
       "      <td>1.016774e+06</td>\n",
       "      <td>1.016774e+06</td>\n",
       "    </tr>\n",
       "    <tr>\n",
       "      <th>mean</th>\n",
       "      <td>1.396050e+01</td>\n",
       "      <td>7.316214e+00</td>\n",
       "      <td>1.061688e+05</td>\n",
       "    </tr>\n",
       "    <tr>\n",
       "      <th>std</th>\n",
       "      <td>8.664978e+00</td>\n",
       "      <td>5.176020e-01</td>\n",
       "      <td>9.912896e+04</td>\n",
       "    </tr>\n",
       "    <tr>\n",
       "      <th>min</th>\n",
       "      <td>1.000000e+00</td>\n",
       "      <td>6.000000e+00</td>\n",
       "      <td>3.400000e+03</td>\n",
       "    </tr>\n",
       "    <tr>\n",
       "      <th>25%</th>\n",
       "      <td>7.000000e+00</td>\n",
       "      <td>7.000000e+00</td>\n",
       "      <td>4.390000e+04</td>\n",
       "    </tr>\n",
       "    <tr>\n",
       "      <th>50%</th>\n",
       "      <td>1.300000e+01</td>\n",
       "      <td>7.000000e+00</td>\n",
       "      <td>7.520000e+04</td>\n",
       "    </tr>\n",
       "    <tr>\n",
       "      <th>75%</th>\n",
       "      <td>2.100000e+01</td>\n",
       "      <td>8.000000e+00</td>\n",
       "      <td>1.342000e+05</td>\n",
       "    </tr>\n",
       "    <tr>\n",
       "      <th>max</th>\n",
       "      <td>3.100000e+01</td>\n",
       "      <td>8.000000e+00</td>\n",
       "      <td>1.526100e+06</td>\n",
       "    </tr>\n",
       "  </tbody>\n",
       "</table>\n",
       "</div>"
      ],
      "text/plain": [
       "                day         month         sales\n",
       "count  1.016774e+06  1.016774e+06  1.016774e+06\n",
       "mean   1.396050e+01  7.316214e+00  1.061688e+05\n",
       "std    8.664978e+00  5.176020e-01  9.912896e+04\n",
       "min    1.000000e+00  6.000000e+00  3.400000e+03\n",
       "25%    7.000000e+00  7.000000e+00  4.390000e+04\n",
       "50%    1.300000e+01  7.000000e+00  7.520000e+04\n",
       "75%    2.100000e+01  8.000000e+00  1.342000e+05\n",
       "max    3.100000e+01  8.000000e+00  1.526100e+06"
      ]
     },
     "execution_count": 11,
     "metadata": {},
     "output_type": "execute_result"
    }
   ],
   "source": [
    "data.describe()"
   ]
  },
  {
   "cell_type": "code",
   "execution_count": 12,
   "id": "7ced78c3-0dd8-4d82-a02f-85f6f8809a0b",
   "metadata": {},
   "outputs": [
    {
     "data": {
      "text/plain": [
       "Index(['passenger_name', 'day', 'month', 'departure_city', 'arrival_city',\n",
       "       'sales'],\n",
       "      dtype='object')"
      ]
     },
     "execution_count": 12,
     "metadata": {},
     "output_type": "execute_result"
    }
   ],
   "source": [
    "data.columns"
   ]
  },
  {
   "cell_type": "code",
   "execution_count": 16,
   "id": "b132ebb6-701e-42e2-a59a-b1280f0d18ae",
   "metadata": {},
   "outputs": [
    {
     "data": {
      "text/plain": [
       "passenger_name    22220\n",
       "day                  31\n",
       "month                 3\n",
       "departure_city       91\n",
       "arrival_city         91\n",
       "sales              5105\n",
       "dtype: int64"
      ]
     },
     "execution_count": 16,
     "metadata": {},
     "output_type": "execute_result"
    }
   ],
   "source": [
    "data.nunique() # return the number of unique values"
   ]
  },
  {
   "cell_type": "code",
   "execution_count": 37,
   "id": "fe4c3da5-b876-4fcd-b567-16ca1b0dc6bb",
   "metadata": {},
   "outputs": [
    {
     "data": {
      "text/plain": [
       "array([6, 7, 8])"
      ]
     },
     "execution_count": 37,
     "metadata": {},
     "output_type": "execute_result"
    }
   ],
   "source": [
    "data['month'].unique() # Return the unique value"
   ]
  },
  {
   "cell_type": "code",
   "execution_count": 36,
   "id": "0ef43c99-8b1e-4dc3-b7ad-ff1fb4777679",
   "metadata": {},
   "outputs": [],
   "source": [
    "#2 Cleaning the data"
   ]
  },
  {
   "cell_type": "code",
   "execution_count": 29,
   "id": "dd1c697d-ec30-4049-9118-28ea30bfef77",
   "metadata": {},
   "outputs": [
    {
     "data": {
      "text/plain": [
       "passenger_name    0\n",
       "day               0\n",
       "month             0\n",
       "departure_city    0\n",
       "arrival_city      0\n",
       "sales             0\n",
       "dtype: int64"
      ]
     },
     "execution_count": 29,
     "metadata": {},
     "output_type": "execute_result"
    }
   ],
   "source": [
    "data.isnull().sum()"
   ]
  },
  {
   "cell_type": "code",
   "execution_count": 32,
   "id": "b0cee5a9-ccf2-4102-829d-54ea820d6556",
   "metadata": {},
   "outputs": [],
   "source": [
    "passenger = data.drop(['sales'], axis = 1) # Delete the column"
   ]
  },
  {
   "cell_type": "code",
   "execution_count": 33,
   "id": "78a3e69a-8950-4cbf-81b4-d840373cb205",
   "metadata": {},
   "outputs": [
    {
     "data": {
      "text/html": [
       "<div>\n",
       "<style scoped>\n",
       "    .dataframe tbody tr th:only-of-type {\n",
       "        vertical-align: middle;\n",
       "    }\n",
       "\n",
       "    .dataframe tbody tr th {\n",
       "        vertical-align: top;\n",
       "    }\n",
       "\n",
       "    .dataframe thead th {\n",
       "        text-align: right;\n",
       "    }\n",
       "</style>\n",
       "<table border=\"1\" class=\"dataframe\">\n",
       "  <thead>\n",
       "    <tr style=\"text-align: right;\">\n",
       "      <th></th>\n",
       "      <th>passenger_name</th>\n",
       "      <th>day</th>\n",
       "      <th>month</th>\n",
       "      <th>departure_city</th>\n",
       "      <th>arrival_city</th>\n",
       "    </tr>\n",
       "  </thead>\n",
       "  <tbody>\n",
       "    <tr>\n",
       "      <th>0</th>\n",
       "      <td>VIKTOR BORISOV</td>\n",
       "      <td>21</td>\n",
       "      <td>6</td>\n",
       "      <td>Astrakhan</td>\n",
       "      <td>Moscow</td>\n",
       "    </tr>\n",
       "    <tr>\n",
       "      <th>1</th>\n",
       "      <td>VIKTOR BORISOV</td>\n",
       "      <td>21</td>\n",
       "      <td>6</td>\n",
       "      <td>Moscow</td>\n",
       "      <td>Astrakhan</td>\n",
       "    </tr>\n",
       "    <tr>\n",
       "      <th>2</th>\n",
       "      <td>ALEKSANDRA KUZNECOVA</td>\n",
       "      <td>21</td>\n",
       "      <td>6</td>\n",
       "      <td>Astrakhan</td>\n",
       "      <td>Moscow</td>\n",
       "    </tr>\n",
       "    <tr>\n",
       "      <th>3</th>\n",
       "      <td>ALEKSANDRA KUZNECOVA</td>\n",
       "      <td>21</td>\n",
       "      <td>6</td>\n",
       "      <td>Moscow</td>\n",
       "      <td>Astrakhan</td>\n",
       "    </tr>\n",
       "    <tr>\n",
       "      <th>4</th>\n",
       "      <td>LYUDMILA POTAPOVA</td>\n",
       "      <td>21</td>\n",
       "      <td>6</td>\n",
       "      <td>Moscow</td>\n",
       "      <td>Khabarovsk</td>\n",
       "    </tr>\n",
       "  </tbody>\n",
       "</table>\n",
       "</div>"
      ],
      "text/plain": [
       "         passenger_name  day  month departure_city arrival_city\n",
       "0        VIKTOR BORISOV   21      6      Astrakhan       Moscow\n",
       "1        VIKTOR BORISOV   21      6         Moscow    Astrakhan\n",
       "2  ALEKSANDRA KUZNECOVA   21      6      Astrakhan       Moscow\n",
       "3  ALEKSANDRA KUZNECOVA   21      6         Moscow    Astrakhan\n",
       "4     LYUDMILA POTAPOVA   21      6         Moscow   Khabarovsk"
      ]
     },
     "execution_count": 33,
     "metadata": {},
     "output_type": "execute_result"
    }
   ],
   "source": [
    "passenger.head()"
   ]
  },
  {
   "cell_type": "code",
   "execution_count": 34,
   "id": "0aa83b93-6fbf-4963-8269-27293dfdf8ff",
   "metadata": {},
   "outputs": [],
   "source": [
    "# Outlier - are nothing but in statistics, it is a data point that differs significantly from others observations"
   ]
  },
  {
   "cell_type": "code",
   "execution_count": 38,
   "id": "c9d8fc62-7d9f-46f9-a73e-34da8ddd2ace",
   "metadata": {},
   "outputs": [],
   "source": [
    "#3 Relationship Analysis"
   ]
  },
  {
   "cell_type": "code",
   "execution_count": 39,
   "id": "c8f2948a-5d00-47fb-a018-d90bbbab7ea0",
   "metadata": {},
   "outputs": [],
   "source": [
    "corelation = passenger.corr()"
   ]
  },
  {
   "cell_type": "code",
   "execution_count": 43,
   "id": "7340bd17-cee3-4fda-a2bf-dae83e2e19b9",
   "metadata": {},
   "outputs": [
    {
     "data": {
      "text/plain": [
       "<AxesSubplot:>"
      ]
     },
     "execution_count": 43,
     "metadata": {},
     "output_type": "execute_result"
    },
    {
     "data": {
      "image/png": "[encoded data removed]",
      "text/plain": [
       "<Figure size 432x288 with 2 Axes>"
      ]
     },
     "metadata": {
      "needs_background": "light"
     },
     "output_type": "display_data"
    }
   ],
   "source": [
    "sns.heatmap(corelation, xticklabels = corelation.columns, yticklabels = corelation.columns, annot =  True)"
   ]
  },
  {
   "cell_type": "code",
   "execution_count": 45,
   "id": "7043ad02-6cfe-4c8f-8a4a-638b5138cc0c",
   "metadata": {},
   "outputs": [
    {
     "data": {
      "text/plain": [
       "<seaborn.axisgrid.PairGrid at 0x7f96a5acd1f0>"
      ]
     },
     "execution_count": 45,
     "metadata": {},
     "output_type": "execute_result"
    },
    {
     "data": {
      "image/png": "[encoded data removed]",
      "text/plain": [
       "<Figure size 360x360 with 6 Axes>"
      ]
     },
     "metadata": {
      "needs_background": "light"
     },
     "output_type": "display_data"
    }
   ],
   "source": [
    " sns.pairplot(passenger) #pair plot - visualize the relationship between 2 variables where variable can be continuous, categorical, "
   ]
  },
  {
   "cell_type": "code",
   "execution_count": 68,
   "id": "0e833eee-80de-4c56-967d-4c60ca9ee817",
   "metadata": {},
   "outputs": [
    {
     "data": {
      "text/plain": [
       "<seaborn.axisgrid.FacetGrid at 0x7f9675b99f10>"
      ]
     },
     "execution_count": 68,
     "metadata": {},
     "output_type": "execute_result"
    },
    {
     "data": {
      "image/png": "[encoded data removed]",
      "text/plain": [
       "<Figure size 504.875x360 with 1 Axes>"
      ]
     },
     "metadata": {
      "needs_background": "light"
     },
     "output_type": "display_data"
    }
   ],
   "source": [
    "sns.relplot(x='day', y='month',  hue='departure_city', data=passenger) # scatterplot hue/legend"
   ]
  },
  {
   "cell_type": "code",
   "execution_count": 78,
   "id": "1a8f57da-9014-452f-87b8-e99fb789a828",
   "metadata": {},
   "outputs": [
    {
     "data": {
      "text/plain": [
       "<AxesSubplot:xlabel='day', ylabel='Count'>"
      ]
     },
     "execution_count": 78,
     "metadata": {},
     "output_type": "execute_result"
    },
    {
     "data": {
      "image/png": "[encoded data removed]",
      "text/plain": [
       "<Figure size 432x288 with 1 Axes>"
      ]
     },
     "metadata": {
      "needs_background": "light"
     },
     "output_type": "display_data"
    }
   ],
   "source": [
    "sns.histplot(passenger['day'], bins = 5)"
   ]
  },
  {
   "cell_type": "code",
   "execution_count": 89,
   "id": "a79917ca-d3d7-4fda-9219-3d57ed218b1e",
   "metadata": {},
   "outputs": [
    {
     "data": {
      "text/plain": [
       "<seaborn.axisgrid.FacetGrid at 0x7f9664ca1910>"
      ]
     },
     "execution_count": 89,
     "metadata": {},
     "output_type": "execute_result"
    },
    {
     "data": {
      "image/png": "[encoded data removed]",
      "text/plain": [
       "<Figure size 360x360 with 1 Axes>"
      ]
     },
     "metadata": {
      "needs_background": "light"
     },
     "output_type": "display_data"
    }
   ],
   "source": [
    "sns.catplot(x = 'day', kind = 'box', data = passenger)"
   ]
  },
  {
   "cell_type": "code",
   "execution_count": 91,
   "id": "fdd152d2-446e-4f5d-8b96-df9b86d4f106",
   "metadata": {},
   "outputs": [
    {
     "data": {
      "text/plain": [
       "passenger_name    22220\n",
       "day                  31\n",
       "month                 3\n",
       "departure_city       91\n",
       "arrival_city         91\n",
       "dtype: int64"
      ]
     },
     "execution_count": 91,
     "metadata": {},
     "output_type": "execute_result"
    }
   ],
   "source": []
  },
  {
   "cell_type": "code",
   "execution_count": null,
   "id": "e10e4c1e-014a-4345-81a8-344a7aea4410",
   "metadata": {},
   "outputs": [],
   "source": []
  }
 ],
 "metadata": {
  "kernelspec": {
   "display_name": "Python 3 (ipykernel)",
   "language": "python",
   "name": "python3"
  },
  "language_info": {
   "codemirror_mode": {
    "name": "ipython",
    "version": 3
   },
   "file_extension": ".py",
   "mimetype": "text/x-python",
   "name": "python",
   "nbconvert_exporter": "python",
   "pygments_lexer": "ipython3",
   "version": "3.12.1"
  }
 },
 "nbformat": 4,
 "nbformat_minor": 5
}
